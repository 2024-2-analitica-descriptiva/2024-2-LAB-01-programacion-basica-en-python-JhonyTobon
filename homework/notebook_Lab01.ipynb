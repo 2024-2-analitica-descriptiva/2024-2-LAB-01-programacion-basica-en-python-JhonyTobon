{
 "cells": [
  {
   "cell_type": "code",
   "execution_count": 28,
   "metadata": {},
   "outputs": [
    {
     "data": {
      "text/plain": [
       "['E\\t1\\t1999-02-28\\tb,g,f\\tjjj:12,bbb:3,ddd:9,ggg:8,hhh:2\\n',\n",
       " 'A\\t2\\t1999-10-28\\ta,f,c\\tccc:2,ddd:0,aaa:3,hhh:9\\n',\n",
       " 'B\\t5\\t1998-05-02\\tf,e,a,c\\tddd:2,ggg:5,ccc:6,jjj:12\\n',\n",
       " 'A\\t3\\t1999-08-28\\ta,b\\thhh:9,iii:5,eee:7,bbb:1\\n',\n",
       " 'C\\t6\\t1999-12-01\\tf,g,d,a\\tiii:6,ddd:5,eee:4,jjj:12\\n',\n",
       " 'A\\t7\\t1998-07-28\\tc,d\\tbbb:2,hhh:0,ccc:4,fff:1,aaa:7\\n',\n",
       " 'A\\t9\\t1997-02-28\\tg,d,a\\taaa:5,fff:8,ddd:2,iii:0,jjj:7,ccc:1\\n',\n",
       " 'B\\t1\\t1999-05-10\\tb,a\\tfff:3,hhh:1,ddd:2\\n',\n",
       " 'E\\t2\\t1997-04-12\\td,e,a,f\\teee:4,ccc:5,iii:9,fff:7,ggg:6,bbb:2\\n',\n",
       " 'B\\t3\\t1999-11-23\\td,b,g,f\\tbbb:7,jjj:9,fff:5,iii:4,ggg:3,eee:3\\n',\n",
       " 'C\\t7\\t1998-01-17\\td,c,f,b\\thhh:6,eee:4,iii:0,fff:2,jjj:12\\n',\n",
       " 'C\\t5\\t1998-12-28\\td,e,a,c\\tbbb:7,iii:6,ggg:9\\n',\n",
       " 'D\\t3\\t1999-10-15\\tg,e,f,b\\tbbb:9,aaa:3,ccc:6,fff:4,eee:2\\n',\n",
       " 'E\\t8\\t1998-11-01\\tc,f\\taaa:8,ddd:5,jjj:12\\n',\n",
       " 'B\\t9\\t1999-08-12\\td,b\\tccc:7,jjj:6,fff:7,ddd:3,aaa:2\\n',\n",
       " 'D\\t8\\t1997-12-01\\tf,e\\tccc:8,eee:6,bbb:9,ddd:3\\n',\n",
       " 'E\\t3\\t1997-07-28\\te,b,f\\tbbb:6,iii:3,hhh:5,fff:4,ggg:9,ddd:2\\n',\n",
       " 'D\\t5\\t1998-08-12\\tg,a\\thhh:4,jjj:5,ccc:9\\n',\n",
       " 'E\\t8\\t1999-08-24\\te,c,f,a\\tccc:1,iii:6,fff:9\\n',\n",
       " 'E\\t9\\t1998-01-23\\te,a\\tbbb:9,aaa:3,fff:1\\n',\n",
       " 'E\\t7\\t1999-06-22\\te,f\\tddd:9,iii:2,aaa:4\\n',\n",
       " 'E\\t3\\t1999-04-24\\tc,b,g\\tccc:5,fff:8,iii:7\\n',\n",
       " 'D\\t5\\t1999-06-25\\tc,f,a\\teee:3,jjj:17,ddd:7\\n',\n",
       " 'A\\t9\\t1999-08-25\\tf,a,d\\tjjj:12,ggg:7,ccc:7,ddd:9,bbb:3\\n',\n",
       " 'E\\t4\\t1997-07-26\\tc,d\\tjjj:6,ccc:4,aaa:1,hhh:9,iii:7,ggg:8\\n',\n",
       " 'E\\t6\\t1997-09-24\\te,d,c\\tfff:3,eee:6,iii:4,bbb:7,ddd:4,ccc:1\\n',\n",
       " 'A\\t8\\t1997-09-28\\ta,e,f\\tfff:0,ddd:5,ccc:4\\n',\n",
       " 'E\\t5\\t1999-06-22\\tc,a,g\\tggg:6,hhh:3,ddd:9,ccc:10,jjj:7\\n',\n",
       " 'A\\t6\\t1999-07-29\\tf,e\\thhh:6,jjj:13,eee:5,iii:7,ccc:3\\n',\n",
       " 'C\\t0\\t1999-08-22\\tf,c,a,g\\teee:1,fff:4,aaa:2,ccc:7,ggg:10,ddd:6\\n',\n",
       " 'A\\t9\\t1998-04-26\\tb,f\\tccc:6,aaa:9,eee:5,ddd:0,bbb:3\\n',\n",
       " 'D\\t3\\t1998-02-24\\tb,f\\tbbb:7,hhh:1,aaa:6,iii:4,fff:9,ddd:5\\n',\n",
       " 'E\\t5\\t1999-03-24\\ta,c\\tfff:3,ccc:1,ggg:3,eee:5\\n',\n",
       " 'B\\t4\\t1998-03-23\\tb,f,c\\tiii:7,ggg:3,ddd:0,jjj:8,hhh:5,ccc:1\\n',\n",
       " 'B\\t6\\t1999-04-21\\tf,a,e\\thhh:6,ccc:3,jjj:9,bbb:8,ddd:7\\n',\n",
       " 'D\\t7\\t1999-02-29\\ta,f\\taaa:1,fff:5,ddd:3\\n',\n",
       " 'B\\t8\\t1997-05-21\\tc,a\\tddd:5,jjj:17,iii:7,ccc:10,bbb:4\\n',\n",
       " 'C\\t9\\t1997-07-22\\tc,a,e,f\\teee:3,fff:2,hhh:6\\n',\n",
       " 'E\\t1\\t1999-09-28\\te,d\\tfff:9,iii:2,eee:5\\n',\n",
       " 'E\\t5\\t1998-01-26\\tf,a,d\\thhh:8,ggg:3,jjj:5\\n']"
      ]
     },
     "execution_count": 28,
     "metadata": {},
     "output_type": "execute_result"
    }
   ],
   "source": [
    "#Abrir un archivo y leerlo en el directorio del repo\n",
    "open_data=open('../files/input/data.csv','r').readlines()\n",
    "open_data"
   ]
  },
  {
   "cell_type": "code",
   "execution_count": 29,
   "metadata": {},
   "outputs": [
    {
     "data": {
      "text/plain": [
       "['E\\t1\\t1999-02-28\\tb,g,f\\tjjj:12,bbb:3,ddd:9,ggg:8,hhh:2',\n",
       " 'A\\t2\\t1999-10-28\\ta,f,c\\tccc:2,ddd:0,aaa:3,hhh:9',\n",
       " 'B\\t5\\t1998-05-02\\tf,e,a,c\\tddd:2,ggg:5,ccc:6,jjj:12',\n",
       " 'A\\t3\\t1999-08-28\\ta,b\\thhh:9,iii:5,eee:7,bbb:1',\n",
       " 'C\\t6\\t1999-12-01\\tf,g,d,a\\tiii:6,ddd:5,eee:4,jjj:12',\n",
       " 'A\\t7\\t1998-07-28\\tc,d\\tbbb:2,hhh:0,ccc:4,fff:1,aaa:7',\n",
       " 'A\\t9\\t1997-02-28\\tg,d,a\\taaa:5,fff:8,ddd:2,iii:0,jjj:7,ccc:1',\n",
       " 'B\\t1\\t1999-05-10\\tb,a\\tfff:3,hhh:1,ddd:2',\n",
       " 'E\\t2\\t1997-04-12\\td,e,a,f\\teee:4,ccc:5,iii:9,fff:7,ggg:6,bbb:2',\n",
       " 'B\\t3\\t1999-11-23\\td,b,g,f\\tbbb:7,jjj:9,fff:5,iii:4,ggg:3,eee:3',\n",
       " 'C\\t7\\t1998-01-17\\td,c,f,b\\thhh:6,eee:4,iii:0,fff:2,jjj:12',\n",
       " 'C\\t5\\t1998-12-28\\td,e,a,c\\tbbb:7,iii:6,ggg:9',\n",
       " 'D\\t3\\t1999-10-15\\tg,e,f,b\\tbbb:9,aaa:3,ccc:6,fff:4,eee:2',\n",
       " 'E\\t8\\t1998-11-01\\tc,f\\taaa:8,ddd:5,jjj:12',\n",
       " 'B\\t9\\t1999-08-12\\td,b\\tccc:7,jjj:6,fff:7,ddd:3,aaa:2',\n",
       " 'D\\t8\\t1997-12-01\\tf,e\\tccc:8,eee:6,bbb:9,ddd:3',\n",
       " 'E\\t3\\t1997-07-28\\te,b,f\\tbbb:6,iii:3,hhh:5,fff:4,ggg:9,ddd:2',\n",
       " 'D\\t5\\t1998-08-12\\tg,a\\thhh:4,jjj:5,ccc:9',\n",
       " 'E\\t8\\t1999-08-24\\te,c,f,a\\tccc:1,iii:6,fff:9',\n",
       " 'E\\t9\\t1998-01-23\\te,a\\tbbb:9,aaa:3,fff:1',\n",
       " 'E\\t7\\t1999-06-22\\te,f\\tddd:9,iii:2,aaa:4',\n",
       " 'E\\t3\\t1999-04-24\\tc,b,g\\tccc:5,fff:8,iii:7',\n",
       " 'D\\t5\\t1999-06-25\\tc,f,a\\teee:3,jjj:17,ddd:7',\n",
       " 'A\\t9\\t1999-08-25\\tf,a,d\\tjjj:12,ggg:7,ccc:7,ddd:9,bbb:3',\n",
       " 'E\\t4\\t1997-07-26\\tc,d\\tjjj:6,ccc:4,aaa:1,hhh:9,iii:7,ggg:8',\n",
       " 'E\\t6\\t1997-09-24\\te,d,c\\tfff:3,eee:6,iii:4,bbb:7,ddd:4,ccc:1',\n",
       " 'A\\t8\\t1997-09-28\\ta,e,f\\tfff:0,ddd:5,ccc:4',\n",
       " 'E\\t5\\t1999-06-22\\tc,a,g\\tggg:6,hhh:3,ddd:9,ccc:10,jjj:7',\n",
       " 'A\\t6\\t1999-07-29\\tf,e\\thhh:6,jjj:13,eee:5,iii:7,ccc:3',\n",
       " 'C\\t0\\t1999-08-22\\tf,c,a,g\\teee:1,fff:4,aaa:2,ccc:7,ggg:10,ddd:6',\n",
       " 'A\\t9\\t1998-04-26\\tb,f\\tccc:6,aaa:9,eee:5,ddd:0,bbb:3',\n",
       " 'D\\t3\\t1998-02-24\\tb,f\\tbbb:7,hhh:1,aaa:6,iii:4,fff:9,ddd:5',\n",
       " 'E\\t5\\t1999-03-24\\ta,c\\tfff:3,ccc:1,ggg:3,eee:5',\n",
       " 'B\\t4\\t1998-03-23\\tb,f,c\\tiii:7,ggg:3,ddd:0,jjj:8,hhh:5,ccc:1',\n",
       " 'B\\t6\\t1999-04-21\\tf,a,e\\thhh:6,ccc:3,jjj:9,bbb:8,ddd:7',\n",
       " 'D\\t7\\t1999-02-29\\ta,f\\taaa:1,fff:5,ddd:3',\n",
       " 'B\\t8\\t1997-05-21\\tc,a\\tddd:5,jjj:17,iii:7,ccc:10,bbb:4',\n",
       " 'C\\t9\\t1997-07-22\\tc,a,e,f\\teee:3,fff:2,hhh:6',\n",
       " 'E\\t1\\t1999-09-28\\te,d\\tfff:9,iii:2,eee:5',\n",
       " 'E\\t5\\t1998-01-26\\tf,a,d\\thhh:8,ggg:3,jjj:5']"
      ]
     },
     "execution_count": 29,
     "metadata": {},
     "output_type": "execute_result"
    }
   ],
   "source": [
    "#Necesito quitar el salto de línea en el archivo para limpiar\n",
    "open_data=[z.replace('\\n','')for z in open_data]\n",
    "open_data"
   ]
  },
  {
   "cell_type": "code",
   "execution_count": 30,
   "metadata": {},
   "outputs": [
    {
     "data": {
      "text/plain": [
       "[['E', '1', '1999-02-28', 'b,g,f', 'jjj:12,bbb:3,ddd:9,ggg:8,hhh:2'],\n",
       " ['A', '2', '1999-10-28', 'a,f,c', 'ccc:2,ddd:0,aaa:3,hhh:9'],\n",
       " ['B', '5', '1998-05-02', 'f,e,a,c', 'ddd:2,ggg:5,ccc:6,jjj:12'],\n",
       " ['A', '3', '1999-08-28', 'a,b', 'hhh:9,iii:5,eee:7,bbb:1'],\n",
       " ['C', '6', '1999-12-01', 'f,g,d,a', 'iii:6,ddd:5,eee:4,jjj:12'],\n",
       " ['A', '7', '1998-07-28', 'c,d', 'bbb:2,hhh:0,ccc:4,fff:1,aaa:7'],\n",
       " ['A', '9', '1997-02-28', 'g,d,a', 'aaa:5,fff:8,ddd:2,iii:0,jjj:7,ccc:1'],\n",
       " ['B', '1', '1999-05-10', 'b,a', 'fff:3,hhh:1,ddd:2'],\n",
       " ['E', '2', '1997-04-12', 'd,e,a,f', 'eee:4,ccc:5,iii:9,fff:7,ggg:6,bbb:2'],\n",
       " ['B', '3', '1999-11-23', 'd,b,g,f', 'bbb:7,jjj:9,fff:5,iii:4,ggg:3,eee:3'],\n",
       " ['C', '7', '1998-01-17', 'd,c,f,b', 'hhh:6,eee:4,iii:0,fff:2,jjj:12'],\n",
       " ['C', '5', '1998-12-28', 'd,e,a,c', 'bbb:7,iii:6,ggg:9'],\n",
       " ['D', '3', '1999-10-15', 'g,e,f,b', 'bbb:9,aaa:3,ccc:6,fff:4,eee:2'],\n",
       " ['E', '8', '1998-11-01', 'c,f', 'aaa:8,ddd:5,jjj:12'],\n",
       " ['B', '9', '1999-08-12', 'd,b', 'ccc:7,jjj:6,fff:7,ddd:3,aaa:2'],\n",
       " ['D', '8', '1997-12-01', 'f,e', 'ccc:8,eee:6,bbb:9,ddd:3'],\n",
       " ['E', '3', '1997-07-28', 'e,b,f', 'bbb:6,iii:3,hhh:5,fff:4,ggg:9,ddd:2'],\n",
       " ['D', '5', '1998-08-12', 'g,a', 'hhh:4,jjj:5,ccc:9'],\n",
       " ['E', '8', '1999-08-24', 'e,c,f,a', 'ccc:1,iii:6,fff:9'],\n",
       " ['E', '9', '1998-01-23', 'e,a', 'bbb:9,aaa:3,fff:1'],\n",
       " ['E', '7', '1999-06-22', 'e,f', 'ddd:9,iii:2,aaa:4'],\n",
       " ['E', '3', '1999-04-24', 'c,b,g', 'ccc:5,fff:8,iii:7'],\n",
       " ['D', '5', '1999-06-25', 'c,f,a', 'eee:3,jjj:17,ddd:7'],\n",
       " ['A', '9', '1999-08-25', 'f,a,d', 'jjj:12,ggg:7,ccc:7,ddd:9,bbb:3'],\n",
       " ['E', '4', '1997-07-26', 'c,d', 'jjj:6,ccc:4,aaa:1,hhh:9,iii:7,ggg:8'],\n",
       " ['E', '6', '1997-09-24', 'e,d,c', 'fff:3,eee:6,iii:4,bbb:7,ddd:4,ccc:1'],\n",
       " ['A', '8', '1997-09-28', 'a,e,f', 'fff:0,ddd:5,ccc:4'],\n",
       " ['E', '5', '1999-06-22', 'c,a,g', 'ggg:6,hhh:3,ddd:9,ccc:10,jjj:7'],\n",
       " ['A', '6', '1999-07-29', 'f,e', 'hhh:6,jjj:13,eee:5,iii:7,ccc:3'],\n",
       " ['C', '0', '1999-08-22', 'f,c,a,g', 'eee:1,fff:4,aaa:2,ccc:7,ggg:10,ddd:6'],\n",
       " ['A', '9', '1998-04-26', 'b,f', 'ccc:6,aaa:9,eee:5,ddd:0,bbb:3'],\n",
       " ['D', '3', '1998-02-24', 'b,f', 'bbb:7,hhh:1,aaa:6,iii:4,fff:9,ddd:5'],\n",
       " ['E', '5', '1999-03-24', 'a,c', 'fff:3,ccc:1,ggg:3,eee:5'],\n",
       " ['B', '4', '1998-03-23', 'b,f,c', 'iii:7,ggg:3,ddd:0,jjj:8,hhh:5,ccc:1'],\n",
       " ['B', '6', '1999-04-21', 'f,a,e', 'hhh:6,ccc:3,jjj:9,bbb:8,ddd:7'],\n",
       " ['D', '7', '1999-02-29', 'a,f', 'aaa:1,fff:5,ddd:3'],\n",
       " ['B', '8', '1997-05-21', 'c,a', 'ddd:5,jjj:17,iii:7,ccc:10,bbb:4'],\n",
       " ['C', '9', '1997-07-22', 'c,a,e,f', 'eee:3,fff:2,hhh:6'],\n",
       " ['E', '1', '1999-09-28', 'e,d', 'fff:9,iii:2,eee:5'],\n",
       " ['E', '5', '1998-01-26', 'f,a,d', 'hhh:8,ggg:3,jjj:5']]"
      ]
     },
     "execution_count": 30,
     "metadata": {},
     "output_type": "execute_result"
    }
   ],
   "source": [
    "#Necesito separar el archivo de \\t por tabulador para que me queden como una lista\n",
    "clean_list= [z.split('\\t')for z in open_data]\n",
    "clean_list"
   ]
  },
  {
   "cell_type": "code",
   "execution_count": null,
   "metadata": {},
   "outputs": [
    {
     "data": {
      "text/plain": [
       "['E',\n",
       " 'A',\n",
       " 'B',\n",
       " 'A',\n",
       " 'C',\n",
       " 'A',\n",
       " 'A',\n",
       " 'B',\n",
       " 'E',\n",
       " 'B',\n",
       " 'C',\n",
       " 'C',\n",
       " 'D',\n",
       " 'E',\n",
       " 'B',\n",
       " 'D',\n",
       " 'E',\n",
       " 'D',\n",
       " 'E',\n",
       " 'E',\n",
       " 'E',\n",
       " 'E',\n",
       " 'D',\n",
       " 'A',\n",
       " 'E',\n",
       " 'E',\n",
       " 'A',\n",
       " 'E',\n",
       " 'A',\n",
       " 'C',\n",
       " 'A',\n",
       " 'D',\n",
       " 'E',\n",
       " 'B',\n",
       " 'B',\n",
       " 'D',\n",
       " 'B',\n",
       " 'C',\n",
       " 'E',\n",
       " 'E']"
      ]
     },
     "execution_count": 31,
     "metadata": {},
     "output_type": "execute_result"
    }
   ],
   "source": [
    "#Extraer la columna uno para poder operar con ella\n",
    "column_01 = [line[0] for line in clean_list]\n",
    "column_01"
   ]
  },
  {
   "cell_type": "code",
   "execution_count": 39,
   "metadata": {},
   "outputs": [
    {
     "data": {
      "text/plain": [
       "[('A', 8), ('B', 7), ('C', 5), ('D', 6), ('E', 14)]"
      ]
     },
     "execution_count": 39,
     "metadata": {},
     "output_type": "execute_result"
    }
   ],
   "source": [
    "from collections import Counter\n",
    "sorted(list(Counter(column_01).items()))\n"
   ]
  },
  {
   "cell_type": "code",
   "execution_count": 52,
   "metadata": {},
   "outputs": [
    {
     "data": {
      "text/plain": [
       "[['E', '1', '1999-02-28', 'b,g,f', 'jjj:12,bbb:3,ddd:9,ggg:8,hhh:2'],\n",
       " ['A', '2', '1999-10-28', 'a,f,c', 'ccc:2,ddd:0,aaa:3,hhh:9'],\n",
       " ['B', '5', '1998-05-02', 'f,e,a,c', 'ddd:2,ggg:5,ccc:6,jjj:12'],\n",
       " ['A', '3', '1999-08-28', 'a,b', 'hhh:9,iii:5,eee:7,bbb:1'],\n",
       " ['C', '6', '1999-12-01', 'f,g,d,a', 'iii:6,ddd:5,eee:4,jjj:12'],\n",
       " ['A', '7', '1998-07-28', 'c,d', 'bbb:2,hhh:0,ccc:4,fff:1,aaa:7'],\n",
       " ['A', '9', '1997-02-28', 'g,d,a', 'aaa:5,fff:8,ddd:2,iii:0,jjj:7,ccc:1'],\n",
       " ['B', '1', '1999-05-10', 'b,a', 'fff:3,hhh:1,ddd:2'],\n",
       " ['E', '2', '1997-04-12', 'd,e,a,f', 'eee:4,ccc:5,iii:9,fff:7,ggg:6,bbb:2'],\n",
       " ['B', '3', '1999-11-23', 'd,b,g,f', 'bbb:7,jjj:9,fff:5,iii:4,ggg:3,eee:3'],\n",
       " ['C', '7', '1998-01-17', 'd,c,f,b', 'hhh:6,eee:4,iii:0,fff:2,jjj:12'],\n",
       " ['C', '5', '1998-12-28', 'd,e,a,c', 'bbb:7,iii:6,ggg:9'],\n",
       " ['D', '3', '1999-10-15', 'g,e,f,b', 'bbb:9,aaa:3,ccc:6,fff:4,eee:2'],\n",
       " ['E', '8', '1998-11-01', 'c,f', 'aaa:8,ddd:5,jjj:12'],\n",
       " ['B', '9', '1999-08-12', 'd,b', 'ccc:7,jjj:6,fff:7,ddd:3,aaa:2'],\n",
       " ['D', '8', '1997-12-01', 'f,e', 'ccc:8,eee:6,bbb:9,ddd:3'],\n",
       " ['E', '3', '1997-07-28', 'e,b,f', 'bbb:6,iii:3,hhh:5,fff:4,ggg:9,ddd:2'],\n",
       " ['D', '5', '1998-08-12', 'g,a', 'hhh:4,jjj:5,ccc:9'],\n",
       " ['E', '8', '1999-08-24', 'e,c,f,a', 'ccc:1,iii:6,fff:9'],\n",
       " ['E', '9', '1998-01-23', 'e,a', 'bbb:9,aaa:3,fff:1'],\n",
       " ['E', '7', '1999-06-22', 'e,f', 'ddd:9,iii:2,aaa:4'],\n",
       " ['E', '3', '1999-04-24', 'c,b,g', 'ccc:5,fff:8,iii:7'],\n",
       " ['D', '5', '1999-06-25', 'c,f,a', 'eee:3,jjj:17,ddd:7'],\n",
       " ['A', '9', '1999-08-25', 'f,a,d', 'jjj:12,ggg:7,ccc:7,ddd:9,bbb:3'],\n",
       " ['E', '4', '1997-07-26', 'c,d', 'jjj:6,ccc:4,aaa:1,hhh:9,iii:7,ggg:8'],\n",
       " ['E', '6', '1997-09-24', 'e,d,c', 'fff:3,eee:6,iii:4,bbb:7,ddd:4,ccc:1'],\n",
       " ['A', '8', '1997-09-28', 'a,e,f', 'fff:0,ddd:5,ccc:4'],\n",
       " ['E', '5', '1999-06-22', 'c,a,g', 'ggg:6,hhh:3,ddd:9,ccc:10,jjj:7'],\n",
       " ['A', '6', '1999-07-29', 'f,e', 'hhh:6,jjj:13,eee:5,iii:7,ccc:3'],\n",
       " ['C', '0', '1999-08-22', 'f,c,a,g', 'eee:1,fff:4,aaa:2,ccc:7,ggg:10,ddd:6'],\n",
       " ['A', '9', '1998-04-26', 'b,f', 'ccc:6,aaa:9,eee:5,ddd:0,bbb:3'],\n",
       " ['D', '3', '1998-02-24', 'b,f', 'bbb:7,hhh:1,aaa:6,iii:4,fff:9,ddd:5'],\n",
       " ['E', '5', '1999-03-24', 'a,c', 'fff:3,ccc:1,ggg:3,eee:5'],\n",
       " ['B', '4', '1998-03-23', 'b,f,c', 'iii:7,ggg:3,ddd:0,jjj:8,hhh:5,ccc:1'],\n",
       " ['B', '6', '1999-04-21', 'f,a,e', 'hhh:6,ccc:3,jjj:9,bbb:8,ddd:7'],\n",
       " ['D', '7', '1999-02-29', 'a,f', 'aaa:1,fff:5,ddd:3'],\n",
       " ['B', '8', '1997-05-21', 'c,a', 'ddd:5,jjj:17,iii:7,ccc:10,bbb:4'],\n",
       " ['C', '9', '1997-07-22', 'c,a,e,f', 'eee:3,fff:2,hhh:6'],\n",
       " ['E', '1', '1999-09-28', 'e,d', 'fff:9,iii:2,eee:5'],\n",
       " ['E', '5', '1998-01-26', 'f,a,d', 'hhh:8,ggg:3,jjj:5']]"
      ]
     },
     "execution_count": 52,
     "metadata": {},
     "output_type": "execute_result"
    }
   ],
   "source": [
    "open_data=open('../files/input/data.csv','r').readlines()\n",
    "open_data=[z.replace('\\n','')for z in open_data]\n",
    "clean_list= [z.split('\\t')for z in open_data]\n",
    "clean_list"
   ]
  },
  {
   "cell_type": "code",
   "execution_count": 57,
   "metadata": {},
   "outputs": [
    {
     "data": {
      "text/plain": [
       "[('E', 1),\n",
       " ('A', 2),\n",
       " ('B', 5),\n",
       " ('A', 3),\n",
       " ('C', 6),\n",
       " ('A', 7),\n",
       " ('A', 9),\n",
       " ('B', 1),\n",
       " ('E', 2),\n",
       " ('B', 3),\n",
       " ('C', 7),\n",
       " ('C', 5),\n",
       " ('D', 3),\n",
       " ('E', 8),\n",
       " ('B', 9),\n",
       " ('D', 8),\n",
       " ('E', 3),\n",
       " ('D', 5),\n",
       " ('E', 8),\n",
       " ('E', 9),\n",
       " ('E', 7),\n",
       " ('E', 3),\n",
       " ('D', 5),\n",
       " ('A', 9),\n",
       " ('E', 4),\n",
       " ('E', 6),\n",
       " ('A', 8),\n",
       " ('E', 5),\n",
       " ('A', 6),\n",
       " ('C', 0),\n",
       " ('A', 9),\n",
       " ('D', 3),\n",
       " ('E', 5),\n",
       " ('B', 4),\n",
       " ('B', 6),\n",
       " ('D', 7),\n",
       " ('B', 8),\n",
       " ('C', 9),\n",
       " ('E', 1),\n",
       " ('E', 5)]"
      ]
     },
     "execution_count": 57,
     "metadata": {},
     "output_type": "execute_result"
    }
   ],
   "source": [
    "letter = [(line[0], int(line[1])) for line in clean_list]\n",
    "letter"
   ]
  },
  {
   "cell_type": "code",
   "execution_count": 75,
   "metadata": {},
   "outputs": [
    {
     "data": {
      "text/plain": [
       "[('A', 53), ('B', 36), ('C', 27), ('D', 31), ('E', 67)]"
      ]
     },
     "execution_count": 75,
     "metadata": {},
     "output_type": "execute_result"
    }
   ],
   "source": [
    "#Crear un diccionario vacío\n",
    "dictionary = {}\n",
    "    \n",
    "#Iterar sobre los datos y acumular las sumas\n",
    "for letra, numero in letter:\n",
    "        if letra in dictionary:\n",
    "            dictionary[letra] += numero\n",
    "        else:\n",
    "            dictionary[letra] = numero\n",
    "\n",
    "#Convertir el diccionario en una lista de tuplas (letra, suma)\n",
    "        result = list(dictionary.items())\n",
    "    \n",
    "#Ordenar la lista alfabéticamente por la letra\n",
    "sort_result = sorted(result, key=lambda x: x[0])\n",
    "    \n",
    "sort_result"
   ]
  },
  {
   "cell_type": "code",
   "execution_count": 76,
   "metadata": {},
   "outputs": [
    {
     "data": {
      "text/plain": [
       "[['E', '1', '1999-02-28', 'b,g,f', 'jjj:12,bbb:3,ddd:9,ggg:8,hhh:2'],\n",
       " ['A', '2', '1999-10-28', 'a,f,c', 'ccc:2,ddd:0,aaa:3,hhh:9'],\n",
       " ['B', '5', '1998-05-02', 'f,e,a,c', 'ddd:2,ggg:5,ccc:6,jjj:12'],\n",
       " ['A', '3', '1999-08-28', 'a,b', 'hhh:9,iii:5,eee:7,bbb:1'],\n",
       " ['C', '6', '1999-12-01', 'f,g,d,a', 'iii:6,ddd:5,eee:4,jjj:12'],\n",
       " ['A', '7', '1998-07-28', 'c,d', 'bbb:2,hhh:0,ccc:4,fff:1,aaa:7'],\n",
       " ['A', '9', '1997-02-28', 'g,d,a', 'aaa:5,fff:8,ddd:2,iii:0,jjj:7,ccc:1'],\n",
       " ['B', '1', '1999-05-10', 'b,a', 'fff:3,hhh:1,ddd:2'],\n",
       " ['E', '2', '1997-04-12', 'd,e,a,f', 'eee:4,ccc:5,iii:9,fff:7,ggg:6,bbb:2'],\n",
       " ['B', '3', '1999-11-23', 'd,b,g,f', 'bbb:7,jjj:9,fff:5,iii:4,ggg:3,eee:3'],\n",
       " ['C', '7', '1998-01-17', 'd,c,f,b', 'hhh:6,eee:4,iii:0,fff:2,jjj:12'],\n",
       " ['C', '5', '1998-12-28', 'd,e,a,c', 'bbb:7,iii:6,ggg:9'],\n",
       " ['D', '3', '1999-10-15', 'g,e,f,b', 'bbb:9,aaa:3,ccc:6,fff:4,eee:2'],\n",
       " ['E', '8', '1998-11-01', 'c,f', 'aaa:8,ddd:5,jjj:12'],\n",
       " ['B', '9', '1999-08-12', 'd,b', 'ccc:7,jjj:6,fff:7,ddd:3,aaa:2'],\n",
       " ['D', '8', '1997-12-01', 'f,e', 'ccc:8,eee:6,bbb:9,ddd:3'],\n",
       " ['E', '3', '1997-07-28', 'e,b,f', 'bbb:6,iii:3,hhh:5,fff:4,ggg:9,ddd:2'],\n",
       " ['D', '5', '1998-08-12', 'g,a', 'hhh:4,jjj:5,ccc:9'],\n",
       " ['E', '8', '1999-08-24', 'e,c,f,a', 'ccc:1,iii:6,fff:9'],\n",
       " ['E', '9', '1998-01-23', 'e,a', 'bbb:9,aaa:3,fff:1'],\n",
       " ['E', '7', '1999-06-22', 'e,f', 'ddd:9,iii:2,aaa:4'],\n",
       " ['E', '3', '1999-04-24', 'c,b,g', 'ccc:5,fff:8,iii:7'],\n",
       " ['D', '5', '1999-06-25', 'c,f,a', 'eee:3,jjj:17,ddd:7'],\n",
       " ['A', '9', '1999-08-25', 'f,a,d', 'jjj:12,ggg:7,ccc:7,ddd:9,bbb:3'],\n",
       " ['E', '4', '1997-07-26', 'c,d', 'jjj:6,ccc:4,aaa:1,hhh:9,iii:7,ggg:8'],\n",
       " ['E', '6', '1997-09-24', 'e,d,c', 'fff:3,eee:6,iii:4,bbb:7,ddd:4,ccc:1'],\n",
       " ['A', '8', '1997-09-28', 'a,e,f', 'fff:0,ddd:5,ccc:4'],\n",
       " ['E', '5', '1999-06-22', 'c,a,g', 'ggg:6,hhh:3,ddd:9,ccc:10,jjj:7'],\n",
       " ['A', '6', '1999-07-29', 'f,e', 'hhh:6,jjj:13,eee:5,iii:7,ccc:3'],\n",
       " ['C', '0', '1999-08-22', 'f,c,a,g', 'eee:1,fff:4,aaa:2,ccc:7,ggg:10,ddd:6'],\n",
       " ['A', '9', '1998-04-26', 'b,f', 'ccc:6,aaa:9,eee:5,ddd:0,bbb:3'],\n",
       " ['D', '3', '1998-02-24', 'b,f', 'bbb:7,hhh:1,aaa:6,iii:4,fff:9,ddd:5'],\n",
       " ['E', '5', '1999-03-24', 'a,c', 'fff:3,ccc:1,ggg:3,eee:5'],\n",
       " ['B', '4', '1998-03-23', 'b,f,c', 'iii:7,ggg:3,ddd:0,jjj:8,hhh:5,ccc:1'],\n",
       " ['B', '6', '1999-04-21', 'f,a,e', 'hhh:6,ccc:3,jjj:9,bbb:8,ddd:7'],\n",
       " ['D', '7', '1999-02-29', 'a,f', 'aaa:1,fff:5,ddd:3'],\n",
       " ['B', '8', '1997-05-21', 'c,a', 'ddd:5,jjj:17,iii:7,ccc:10,bbb:4'],\n",
       " ['C', '9', '1997-07-22', 'c,a,e,f', 'eee:3,fff:2,hhh:6'],\n",
       " ['E', '1', '1999-09-28', 'e,d', 'fff:9,iii:2,eee:5'],\n",
       " ['E', '5', '1998-01-26', 'f,a,d', 'hhh:8,ggg:3,jjj:5']]"
      ]
     },
     "execution_count": 76,
     "metadata": {},
     "output_type": "execute_result"
    }
   ],
   "source": [
    "open_data=open('../files/input/data.csv','r').readlines()\n",
    "open_data=[z.replace('\\n','')for z in open_data]\n",
    "clean_list= [z.split('\\t')for z in open_data]\n",
    "clean_list"
   ]
  },
  {
   "cell_type": "code",
   "execution_count": null,
   "metadata": {},
   "outputs": [
    {
     "data": {
      "text/plain": [
       "[('01', 3),\n",
       " ('02', 4),\n",
       " ('03', 2),\n",
       " ('04', 4),\n",
       " ('05', 3),\n",
       " ('06', 3),\n",
       " ('07', 5),\n",
       " ('08', 6),\n",
       " ('09', 3),\n",
       " ('10', 2),\n",
       " ('11', 2),\n",
       " ('12', 3)]"
      ]
     },
     "execution_count": 88,
     "metadata": {},
     "output_type": "execute_result"
    }
   ],
   "source": [
    "month = [(line[2])for line in clean_list]\n",
    "month = [z.split('-')for z in month]\n",
    "month = [position[1]for position in month]\n",
    "\n",
    "from collections import Counter\n",
    "sorted(list(Counter(month).items()))\n"
   ]
  },
  {
   "cell_type": "code",
   "execution_count": 43,
   "metadata": {},
   "outputs": [
    {
     "data": {
      "text/plain": [
       "[('A', 9, 2), ('B', 9, 1), ('C', 9, 0), ('D', 8, 3), ('E', 9, 1)]"
      ]
     },
     "execution_count": 43,
     "metadata": {},
     "output_type": "execute_result"
    }
   ],
   "source": [
    "#Leer y limpiar la data\n",
    "open_data=open('../files/input/data.csv','r').readlines()\n",
    "open_data=[z.replace('\\n','')for z in open_data]\n",
    "clean_list= [z.split('\\t')for z in open_data]\n",
    "#Separar la data para operar\n",
    "letter = [(line[0], int(line[1])) for line in clean_list]\n",
    "#Tener la lista de ítems independientes\n",
    "listletter = set([x[0] for x in letter])\n",
    "#Crear una lista de tuplas vacía\n",
    "result=[]\n",
    "#Recorrer los datos y para traer por cada ítem el valor máximo y mínimo correspondiente\n",
    "for i in listletter:\n",
    "  tmp = list(filter(lambda x: x[0]==i, letter))\n",
    "  result.append((i,max(tmp)[1], min(tmp)[1]))\n",
    "#Ordenar los resultados\n",
    "result.sort()\n",
    "result"
   ]
  },
  {
   "cell_type": "code",
   "execution_count": 108,
   "metadata": {},
   "outputs": [
    {
     "data": {
      "text/plain": [
       "[['jjj:12', 'bbb:3', 'ddd:9', 'ggg:8', 'hhh:2'],\n",
       " ['ccc:2', 'ddd:0', 'aaa:3', 'hhh:9'],\n",
       " ['ddd:2', 'ggg:5', 'ccc:6', 'jjj:12'],\n",
       " ['hhh:9', 'iii:5', 'eee:7', 'bbb:1'],\n",
       " ['iii:6', 'ddd:5', 'eee:4', 'jjj:12'],\n",
       " ['bbb:2', 'hhh:0', 'ccc:4', 'fff:1', 'aaa:7'],\n",
       " ['aaa:5', 'fff:8', 'ddd:2', 'iii:0', 'jjj:7', 'ccc:1'],\n",
       " ['fff:3', 'hhh:1', 'ddd:2'],\n",
       " ['eee:4', 'ccc:5', 'iii:9', 'fff:7', 'ggg:6', 'bbb:2'],\n",
       " ['bbb:7', 'jjj:9', 'fff:5', 'iii:4', 'ggg:3', 'eee:3'],\n",
       " ['hhh:6', 'eee:4', 'iii:0', 'fff:2', 'jjj:12'],\n",
       " ['bbb:7', 'iii:6', 'ggg:9'],\n",
       " ['bbb:9', 'aaa:3', 'ccc:6', 'fff:4', 'eee:2'],\n",
       " ['aaa:8', 'ddd:5', 'jjj:12'],\n",
       " ['ccc:7', 'jjj:6', 'fff:7', 'ddd:3', 'aaa:2'],\n",
       " ['ccc:8', 'eee:6', 'bbb:9', 'ddd:3'],\n",
       " ['bbb:6', 'iii:3', 'hhh:5', 'fff:4', 'ggg:9', 'ddd:2'],\n",
       " ['hhh:4', 'jjj:5', 'ccc:9'],\n",
       " ['ccc:1', 'iii:6', 'fff:9'],\n",
       " ['bbb:9', 'aaa:3', 'fff:1'],\n",
       " ['ddd:9', 'iii:2', 'aaa:4'],\n",
       " ['ccc:5', 'fff:8', 'iii:7'],\n",
       " ['eee:3', 'jjj:17', 'ddd:7'],\n",
       " ['jjj:12', 'ggg:7', 'ccc:7', 'ddd:9', 'bbb:3'],\n",
       " ['jjj:6', 'ccc:4', 'aaa:1', 'hhh:9', 'iii:7', 'ggg:8'],\n",
       " ['fff:3', 'eee:6', 'iii:4', 'bbb:7', 'ddd:4', 'ccc:1'],\n",
       " ['fff:0', 'ddd:5', 'ccc:4'],\n",
       " ['ggg:6', 'hhh:3', 'ddd:9', 'ccc:10', 'jjj:7'],\n",
       " ['hhh:6', 'jjj:13', 'eee:5', 'iii:7', 'ccc:3'],\n",
       " ['eee:1', 'fff:4', 'aaa:2', 'ccc:7', 'ggg:10', 'ddd:6'],\n",
       " ['ccc:6', 'aaa:9', 'eee:5', 'ddd:0', 'bbb:3'],\n",
       " ['bbb:7', 'hhh:1', 'aaa:6', 'iii:4', 'fff:9', 'ddd:5'],\n",
       " ['fff:3', 'ccc:1', 'ggg:3', 'eee:5'],\n",
       " ['iii:7', 'ggg:3', 'ddd:0', 'jjj:8', 'hhh:5', 'ccc:1'],\n",
       " ['hhh:6', 'ccc:3', 'jjj:9', 'bbb:8', 'ddd:7'],\n",
       " ['aaa:1', 'fff:5', 'ddd:3'],\n",
       " ['ddd:5', 'jjj:17', 'iii:7', 'ccc:10', 'bbb:4'],\n",
       " ['eee:3', 'fff:2', 'hhh:6'],\n",
       " ['fff:9', 'iii:2', 'eee:5'],\n",
       " ['hhh:8', 'ggg:3', 'jjj:5']]"
      ]
     },
     "execution_count": 108,
     "metadata": {},
     "output_type": "execute_result"
    }
   ],
   "source": [
    "#Leer y limpiar la data\n",
    "open_data = open('../files/input/data.csv','r').readlines()\n",
    "open_data = [z.replace('\\n','')for z in open_data]\n",
    "clean_list = [z.split('\\t')for z in open_data]\n",
    "#Separar la data para operar\n",
    "key_value = [line[-1] for line in clean_list]\n",
    "key_value = [z.replace(',','\\t')for z in key_value]\n",
    "key_value = [z.split('\\t')for z in key_value]\n",
    "key_value"
   ]
  },
  {
   "cell_type": "code",
   "execution_count": null,
   "metadata": {},
   "outputs": [
    {
     "data": {
      "text/plain": [
       "[('aaa', 1, 9),\n",
       " ('bbb', 1, 9),\n",
       " ('ccc', 1, 10),\n",
       " ('ddd', 0, 9),\n",
       " ('eee', 1, 7),\n",
       " ('fff', 0, 9),\n",
       " ('ggg', 3, 10),\n",
       " ('hhh', 0, 9),\n",
       " ('iii', 0, 9),\n",
       " ('jjj', 5, 17)]"
      ]
     },
     "execution_count": 109,
     "metadata": {},
     "output_type": "execute_result"
    }
   ],
   "source": [
    "# Diccionario para almacenar el mínimo y máximo de cada clave\n",
    "min_max_values = {}\n",
    "\n",
    "# Procesamos los datos\n",
    "for row in key_value:\n",
    "    for item in row:\n",
    "        # Dividimos cada elemento por ':'\n",
    "        key, value = item.split(':')\n",
    "        value = int(value)  # Convertimos el valor a entero\n",
    "        \n",
    "        # Si la clave no existe, inicializamos el mínimo y máximo\n",
    "        if key not in min_max_values:\n",
    "            min_max_values[key] = [value, value]\n",
    "        else:\n",
    "            # Actualizamos el valor mínimo y máximo\n",
    "            min_max_values[key][0] = min(min_max_values[key][0], value)  # Valor mínimo\n",
    "            min_max_values[key][1] = max(min_max_values[key][1], value)  # Valor máximo\n",
    "\n",
    "# Convertimos el diccionario a una lista de tuplas ordenada por clave\n",
    "result = [(key, min_max_values[key][0], min_max_values[key][1]) for key in sorted(min_max_values.keys())]\n",
    "\n",
    "# Retornamos la función\n",
    "result"
   ]
  },
  {
   "cell_type": "code",
   "execution_count": 111,
   "metadata": {},
   "outputs": [
    {
     "data": {
      "text/plain": [
       "[('E', '1'),\n",
       " ('A', '2'),\n",
       " ('B', '5'),\n",
       " ('A', '3'),\n",
       " ('C', '6'),\n",
       " ('A', '7'),\n",
       " ('A', '9'),\n",
       " ('B', '1'),\n",
       " ('E', '2'),\n",
       " ('B', '3'),\n",
       " ('C', '7'),\n",
       " ('C', '5'),\n",
       " ('D', '3'),\n",
       " ('E', '8'),\n",
       " ('B', '9'),\n",
       " ('D', '8'),\n",
       " ('E', '3'),\n",
       " ('D', '5'),\n",
       " ('E', '8'),\n",
       " ('E', '9'),\n",
       " ('E', '7'),\n",
       " ('E', '3'),\n",
       " ('D', '5'),\n",
       " ('A', '9'),\n",
       " ('E', '4'),\n",
       " ('E', '6'),\n",
       " ('A', '8'),\n",
       " ('E', '5'),\n",
       " ('A', '6'),\n",
       " ('C', '0'),\n",
       " ('A', '9'),\n",
       " ('D', '3'),\n",
       " ('E', '5'),\n",
       " ('B', '4'),\n",
       " ('B', '6'),\n",
       " ('D', '7'),\n",
       " ('B', '8'),\n",
       " ('C', '9'),\n",
       " ('E', '1'),\n",
       " ('E', '5')]"
      ]
     },
     "execution_count": 111,
     "metadata": {},
     "output_type": "execute_result"
    }
   ],
   "source": [
    "#Leer y limpiar la data\n",
    "open_data = open('../files/input/data.csv','r').readlines()\n",
    "open_data = [z.replace('\\n','')for z in open_data]\n",
    "clean_list = [z.split('\\t')for z in open_data]\n",
    "#Separar la data para operar\n",
    "data_list = [(line[0],line[1]) for line in clean_list]\n",
    "data_list"
   ]
  },
  {
   "cell_type": "code",
   "execution_count": 120,
   "metadata": {},
   "outputs": [
    {
     "data": {
      "text/plain": [
       "[('C', '0'),\n",
       " ('E', '1'),\n",
       " ('B', '1'),\n",
       " ('E', '1'),\n",
       " ('A', '2'),\n",
       " ('E', '2'),\n",
       " ('A', '3'),\n",
       " ('B', '3'),\n",
       " ('D', '3'),\n",
       " ('E', '3'),\n",
       " ('E', '3'),\n",
       " ('D', '3'),\n",
       " ('E', '4'),\n",
       " ('B', '4'),\n",
       " ('B', '5'),\n",
       " ('C', '5'),\n",
       " ('D', '5'),\n",
       " ('D', '5'),\n",
       " ('E', '5'),\n",
       " ('E', '5'),\n",
       " ('E', '5'),\n",
       " ('C', '6'),\n",
       " ('E', '6'),\n",
       " ('A', '6'),\n",
       " ('B', '6'),\n",
       " ('A', '7'),\n",
       " ('C', '7'),\n",
       " ('E', '7'),\n",
       " ('D', '7'),\n",
       " ('E', '8'),\n",
       " ('D', '8'),\n",
       " ('E', '8'),\n",
       " ('A', '8'),\n",
       " ('B', '8'),\n",
       " ('A', '9'),\n",
       " ('B', '9'),\n",
       " ('E', '9'),\n",
       " ('A', '9'),\n",
       " ('A', '9'),\n",
       " ('C', '9')]"
      ]
     },
     "execution_count": 120,
     "metadata": {},
     "output_type": "execute_result"
    }
   ],
   "source": [
    "data_sorted = sorted(data_list, key=lambda x: x[1])\n",
    "data_sorted"
   ]
  },
  {
   "cell_type": "code",
   "execution_count": 125,
   "metadata": {},
   "outputs": [
    {
     "data": {
      "text/plain": [
       "[('aaa', 1, 9),\n",
       " ('bbb', 1, 9),\n",
       " ('ccc', 1, 10),\n",
       " ('ddd', 0, 9),\n",
       " ('eee', 1, 7),\n",
       " ('fff', 0, 9),\n",
       " ('ggg', 3, 10),\n",
       " ('hhh', 0, 9),\n",
       " ('iii', 0, 9),\n",
       " ('jjj', 5, 17),\n",
       " ('0', ['C']),\n",
       " ('1', ['E', 'B', 'E']),\n",
       " ('2', ['A', 'E']),\n",
       " ('3', ['A', 'B', 'D', 'E', 'E', 'D']),\n",
       " ('4', ['E', 'B']),\n",
       " ('5', ['B', 'C', 'D', 'D', 'E', 'E', 'E']),\n",
       " ('6', ['C', 'E', 'A', 'B']),\n",
       " ('7', ['A', 'C', 'E', 'D']),\n",
       " ('8', ['E', 'D', 'E', 'A', 'B']),\n",
       " ('9', ['A', 'B', 'E', 'A', 'A', 'C']),\n",
       " ('0', ['C']),\n",
       " ('1', ['E', 'B', 'E']),\n",
       " ('2', ['A', 'E']),\n",
       " ('3', ['A', 'B', 'D', 'E', 'E', 'D']),\n",
       " ('4', ['E', 'B']),\n",
       " ('5', ['B', 'C', 'D', 'D', 'E', 'E', 'E']),\n",
       " ('6', ['C', 'E', 'A', 'B']),\n",
       " ('7', ['A', 'C', 'E', 'D']),\n",
       " ('8', ['E', 'D', 'E', 'A', 'B']),\n",
       " ('9', ['A', 'B', 'E', 'A', 'A', 'C']),\n",
       " ('0', ['C']),\n",
       " ('1', ['E', 'B', 'E']),\n",
       " ('2', ['A', 'E']),\n",
       " ('3', ['A', 'B', 'D', 'E', 'E', 'D']),\n",
       " ('4', ['E', 'B']),\n",
       " ('5', ['B', 'C', 'D', 'D', 'E', 'E', 'E']),\n",
       " ('6', ['C', 'E', 'A', 'B']),\n",
       " ('7', ['A', 'C', 'E', 'D']),\n",
       " ('8', ['E', 'D', 'E', 'A', 'B']),\n",
       " ('9', ['A', 'B', 'E', 'A', 'A', 'C']),\n",
       " ('0', ['C']),\n",
       " ('1', ['E', 'B', 'E']),\n",
       " ('2', ['A', 'E']),\n",
       " ('3', ['A', 'B', 'D', 'E', 'E', 'D']),\n",
       " ('4', ['E', 'B']),\n",
       " ('5', ['B', 'C', 'D', 'D', 'E', 'E', 'E']),\n",
       " ('6', ['C', 'E', 'A', 'B']),\n",
       " ('7', ['A', 'C', 'E', 'D']),\n",
       " ('8', ['E', 'D', 'E', 'A', 'B']),\n",
       " ('9', ['A', 'B', 'E', 'A', 'A', 'C']),\n",
       " ('0', ['C']),\n",
       " ('1', ['E', 'B', 'E']),\n",
       " ('2', ['A', 'E']),\n",
       " ('3', ['A', 'B', 'D', 'E', 'E', 'D']),\n",
       " ('4', ['E', 'B']),\n",
       " ('5', ['B', 'C', 'D', 'D', 'E', 'E', 'E']),\n",
       " ('6', ['C', 'E', 'A', 'B']),\n",
       " ('7', ['A', 'C', 'E', 'D']),\n",
       " ('8', ['E', 'D', 'E', 'A', 'B']),\n",
       " ('9', ['A', 'B', 'E', 'A', 'A', 'C']),\n",
       " ('0', ['C']),\n",
       " ('1', ['E', 'B', 'E']),\n",
       " ('2', ['A', 'E']),\n",
       " ('3', ['A', 'B', 'D', 'E', 'E', 'D']),\n",
       " ('4', ['E', 'B']),\n",
       " ('5', ['B', 'C', 'D', 'D', 'E', 'E', 'E']),\n",
       " ('6', ['C', 'E', 'A', 'B']),\n",
       " ('7', ['A', 'C', 'E', 'D']),\n",
       " ('8', ['E', 'D', 'E', 'A', 'B']),\n",
       " ('9', ['A', 'B', 'E', 'A', 'A', 'C']),\n",
       " ('0', ['C']),\n",
       " ('1', ['E', 'B', 'E']),\n",
       " ('2', ['A', 'E']),\n",
       " ('3', ['A', 'B', 'D', 'E', 'E', 'D']),\n",
       " ('4', ['E', 'B']),\n",
       " ('5', ['B', 'C', 'D', 'D', 'E', 'E', 'E']),\n",
       " ('6', ['C', 'E', 'A', 'B']),\n",
       " ('7', ['A', 'C', 'E', 'D']),\n",
       " ('8', ['E', 'D', 'E', 'A', 'B']),\n",
       " ('9', ['A', 'B', 'E', 'A', 'A', 'C']),\n",
       " ('0', ['C']),\n",
       " ('1', ['E', 'B', 'E']),\n",
       " ('2', ['A', 'E']),\n",
       " ('3', ['A', 'B', 'D', 'E', 'E', 'D']),\n",
       " ('4', ['E', 'B']),\n",
       " ('5', ['B', 'C', 'D', 'D', 'E', 'E', 'E']),\n",
       " ('6', ['C', 'E', 'A', 'B']),\n",
       " ('7', ['A', 'C', 'E', 'D']),\n",
       " ('8', ['E', 'D', 'E', 'A', 'B']),\n",
       " ('9', ['A', 'B', 'E', 'A', 'A', 'C'])]"
      ]
     },
     "execution_count": 125,
     "metadata": {},
     "output_type": "execute_result"
    }
   ],
   "source": [
    "from itertools import groupby\n",
    "grouped = groupby(data_sorted, key=lambda x: x[1])\n",
    "result_dict = {}\n",
    "for key, group in grouped:\n",
    "    letras = [letra for letra, data_sorted in group]\n",
    "    result.append((key, letras))\n",
    "\n",
    "result"
   ]
  },
  {
   "cell_type": "code",
   "execution_count": 126,
   "metadata": {},
   "outputs": [
    {
     "data": {
      "text/plain": [
       "[('E', '1'),\n",
       " ('A', '2'),\n",
       " ('B', '5'),\n",
       " ('A', '3'),\n",
       " ('C', '6'),\n",
       " ('A', '7'),\n",
       " ('A', '9'),\n",
       " ('B', '1'),\n",
       " ('E', '2'),\n",
       " ('B', '3'),\n",
       " ('C', '7'),\n",
       " ('C', '5'),\n",
       " ('D', '3'),\n",
       " ('E', '8'),\n",
       " ('B', '9'),\n",
       " ('D', '8'),\n",
       " ('E', '3'),\n",
       " ('D', '5'),\n",
       " ('E', '8'),\n",
       " ('E', '9'),\n",
       " ('E', '7'),\n",
       " ('E', '3'),\n",
       " ('D', '5'),\n",
       " ('A', '9'),\n",
       " ('E', '4'),\n",
       " ('E', '6'),\n",
       " ('A', '8'),\n",
       " ('E', '5'),\n",
       " ('A', '6'),\n",
       " ('C', '0'),\n",
       " ('A', '9'),\n",
       " ('D', '3'),\n",
       " ('E', '5'),\n",
       " ('B', '4'),\n",
       " ('B', '6'),\n",
       " ('D', '7'),\n",
       " ('B', '8'),\n",
       " ('C', '9'),\n",
       " ('E', '1'),\n",
       " ('E', '5')]"
      ]
     },
     "execution_count": 126,
     "metadata": {},
     "output_type": "execute_result"
    }
   ],
   "source": [
    "#Leer y limpiar la data\n",
    "open_data = open('../files/input/data.csv','r').readlines()\n",
    "open_data = [z.replace('\\n','')for z in open_data]\n",
    "clean_list = [z.split('\\t')for z in open_data]\n",
    "#Separar la data para operar\n",
    "data_list = [(line[0],line[1]) for line in clean_list]\n",
    "data_list"
   ]
  },
  {
   "cell_type": "code",
   "execution_count": 4,
   "metadata": {},
   "outputs": [
    {
     "data": {
      "text/plain": [
       "[('0', ['C']),\n",
       " ('1', ['E', 'B']),\n",
       " ('2', ['A', 'E']),\n",
       " ('3', ['A', 'D', 'E', 'B']),\n",
       " ('4', ['E', 'B']),\n",
       " ('5', ['D', 'C', 'E', 'B']),\n",
       " ('6', ['A', 'C', 'E', 'B']),\n",
       " ('7', ['A', 'C', 'E', 'D']),\n",
       " ('8', ['A', 'D', 'E', 'B']),\n",
       " ('9', ['A', 'C', 'E', 'B'])]"
      ]
     },
     "execution_count": 4,
     "metadata": {},
     "output_type": "execute_result"
    }
   ],
   "source": [
    "from itertools import groupby\n",
    "\n",
    "   #Leer y limpiar la data\n",
    "open_data = open('../files/input/data.csv','r').readlines()\n",
    "open_data = [z.replace('\\n','')for z in open_data]\n",
    "clean_list = [z.split('\\t')for z in open_data]\n",
    "    #Separar la data para operar\n",
    "data_list = [(line[0],line[1]) for line in clean_list]\n",
    "    #Organizar las tuplas por la columna 1\n",
    "data_sorted = sorted(data_list, key=lambda x: x[1])\n",
    "    #Agrupar, crear la lista y retornar la pregunta 07\n",
    "grouped = groupby(data_sorted, key=lambda x: x[1])\n",
    "result = []\n",
    "for key, group in grouped:\n",
    "    # Usamos un set para evitar duplicados\n",
    "    letras = set(letra for letra, value in group)\n",
    "    result.append((key, list(letras)))  # Convertir a lista\n",
    "    \n",
    "    result\n",
    "\n",
    "result"
   ]
  },
  {
   "cell_type": "code",
   "execution_count": 24,
   "metadata": {},
   "outputs": [
    {
     "data": {
      "text/plain": [
       "[['jjj:12', 'bbb:3', 'ddd:9', 'ggg:8', 'hhh:2'],\n",
       " ['ccc:2', 'ddd:0', 'aaa:3', 'hhh:9'],\n",
       " ['ddd:2', 'ggg:5', 'ccc:6', 'jjj:12'],\n",
       " ['hhh:9', 'iii:5', 'eee:7', 'bbb:1'],\n",
       " ['iii:6', 'ddd:5', 'eee:4', 'jjj:12'],\n",
       " ['bbb:2', 'hhh:0', 'ccc:4', 'fff:1', 'aaa:7'],\n",
       " ['aaa:5', 'fff:8', 'ddd:2', 'iii:0', 'jjj:7', 'ccc:1'],\n",
       " ['fff:3', 'hhh:1', 'ddd:2'],\n",
       " ['eee:4', 'ccc:5', 'iii:9', 'fff:7', 'ggg:6', 'bbb:2'],\n",
       " ['bbb:7', 'jjj:9', 'fff:5', 'iii:4', 'ggg:3', 'eee:3'],\n",
       " ['hhh:6', 'eee:4', 'iii:0', 'fff:2', 'jjj:12'],\n",
       " ['bbb:7', 'iii:6', 'ggg:9'],\n",
       " ['bbb:9', 'aaa:3', 'ccc:6', 'fff:4', 'eee:2'],\n",
       " ['aaa:8', 'ddd:5', 'jjj:12'],\n",
       " ['ccc:7', 'jjj:6', 'fff:7', 'ddd:3', 'aaa:2'],\n",
       " ['ccc:8', 'eee:6', 'bbb:9', 'ddd:3'],\n",
       " ['bbb:6', 'iii:3', 'hhh:5', 'fff:4', 'ggg:9', 'ddd:2'],\n",
       " ['hhh:4', 'jjj:5', 'ccc:9'],\n",
       " ['ccc:1', 'iii:6', 'fff:9'],\n",
       " ['bbb:9', 'aaa:3', 'fff:1'],\n",
       " ['ddd:9', 'iii:2', 'aaa:4'],\n",
       " ['ccc:5', 'fff:8', 'iii:7'],\n",
       " ['eee:3', 'jjj:17', 'ddd:7'],\n",
       " ['jjj:12', 'ggg:7', 'ccc:7', 'ddd:9', 'bbb:3'],\n",
       " ['jjj:6', 'ccc:4', 'aaa:1', 'hhh:9', 'iii:7', 'ggg:8'],\n",
       " ['fff:3', 'eee:6', 'iii:4', 'bbb:7', 'ddd:4', 'ccc:1'],\n",
       " ['fff:0', 'ddd:5', 'ccc:4'],\n",
       " ['ggg:6', 'hhh:3', 'ddd:9', 'ccc:10', 'jjj:7'],\n",
       " ['hhh:6', 'jjj:13', 'eee:5', 'iii:7', 'ccc:3'],\n",
       " ['eee:1', 'fff:4', 'aaa:2', 'ccc:7', 'ggg:10', 'ddd:6'],\n",
       " ['ccc:6', 'aaa:9', 'eee:5', 'ddd:0', 'bbb:3'],\n",
       " ['bbb:7', 'hhh:1', 'aaa:6', 'iii:4', 'fff:9', 'ddd:5'],\n",
       " ['fff:3', 'ccc:1', 'ggg:3', 'eee:5'],\n",
       " ['iii:7', 'ggg:3', 'ddd:0', 'jjj:8', 'hhh:5', 'ccc:1'],\n",
       " ['hhh:6', 'ccc:3', 'jjj:9', 'bbb:8', 'ddd:7'],\n",
       " ['aaa:1', 'fff:5', 'ddd:3'],\n",
       " ['ddd:5', 'jjj:17', 'iii:7', 'ccc:10', 'bbb:4'],\n",
       " ['eee:3', 'fff:2', 'hhh:6'],\n",
       " ['fff:9', 'iii:2', 'eee:5'],\n",
       " ['hhh:8', 'ggg:3', 'jjj:5']]"
      ]
     },
     "execution_count": 24,
     "metadata": {},
     "output_type": "execute_result"
    }
   ],
   "source": [
    "#Leer y limpiar la data\n",
    "open_data=open('../files/input/data.csv','r').readlines()\n",
    "open_data=[z.replace('\\n','')for z in open_data]\n",
    "clean_list= [z.split('\\t')for z in open_data]\n",
    "#Separar la data para operar\n",
    "coder = [(line[-1]) for line in clean_list]\n",
    "coder = [z.split (',') for z in coder]\n",
    "coder"
   ]
  },
  {
   "cell_type": "code",
   "execution_count": 28,
   "metadata": {},
   "outputs": [
    {
     "data": {
      "text/plain": [
       "{'aaa': 13,\n",
       " 'bbb': 16,\n",
       " 'ccc': 23,\n",
       " 'ddd': 23,\n",
       " 'eee': 15,\n",
       " 'fff': 20,\n",
       " 'ggg': 13,\n",
       " 'hhh': 16,\n",
       " 'iii': 18,\n",
       " 'jjj': 18}"
      ]
     },
     "execution_count": 28,
     "metadata": {},
     "output_type": "execute_result"
    }
   ],
   "source": [
    "#Crear un diccionario vacío\n",
    "key_counter = {}\n",
    "#Iterar sobre los datos, dividir el \":\", alojar cada clave y acumular las veces que aparece\n",
    "for key_value in coder:\n",
    "    for item in key_value:\n",
    "        key, value = item.split(':')\n",
    "        if key in key_counter:\n",
    "            key_counter[key] += 1\n",
    "        else:\n",
    "            key_counter[key] = 1\n",
    "\n",
    "#Ordenar el diccionario alfabéticamente por la clave\n",
    "ordered_key_counter = {k: key_counter[k] for k in sorted(key_counter)}\n",
    "\n",
    "\n",
    "ordered_key_counter"
   ]
  },
  {
   "cell_type": "code",
   "execution_count": null,
   "metadata": {},
   "outputs": [
    {
     "data": {
      "text/plain": [
       "[('E', 3, 5),\n",
       " ('A', 3, 4),\n",
       " ('B', 4, 4),\n",
       " ('A', 2, 4),\n",
       " ('C', 4, 4),\n",
       " ('A', 2, 5),\n",
       " ('A', 3, 6),\n",
       " ('B', 2, 3),\n",
       " ('E', 4, 6),\n",
       " ('B', 4, 6),\n",
       " ('C', 4, 5),\n",
       " ('C', 4, 3),\n",
       " ('D', 4, 5),\n",
       " ('E', 2, 3),\n",
       " ('B', 2, 5),\n",
       " ('D', 2, 4),\n",
       " ('E', 3, 6),\n",
       " ('D', 2, 3),\n",
       " ('E', 4, 3),\n",
       " ('E', 2, 3),\n",
       " ('E', 2, 3),\n",
       " ('E', 3, 3),\n",
       " ('D', 3, 3),\n",
       " ('A', 3, 5),\n",
       " ('E', 2, 6),\n",
       " ('E', 3, 6),\n",
       " ('A', 3, 3),\n",
       " ('E', 3, 5),\n",
       " ('A', 2, 5),\n",
       " ('C', 4, 6),\n",
       " ('A', 2, 5),\n",
       " ('D', 2, 6),\n",
       " ('E', 2, 4),\n",
       " ('B', 3, 6),\n",
       " ('B', 3, 5),\n",
       " ('D', 2, 3),\n",
       " ('B', 2, 5),\n",
       " ('C', 4, 3),\n",
       " ('E', 2, 3),\n",
       " ('E', 3, 3)]"
      ]
     },
     "execution_count": 33,
     "metadata": {},
     "output_type": "execute_result"
    }
   ],
   "source": [
    "#Leer y limpiar la data\n",
    "open_data=open('../files/input/data.csv','r').readlines()\n",
    "open_data=[z.replace('\\n','')for z in open_data]\n",
    "clean_list= [z.split('\\t')for z in open_data]\n",
    "#Crear una lista vacía para ir pegando los datos\n",
    "list_code_counter=[]\n",
    "#Recorrer la data para traer los datos\n",
    "for line in clean_list:\n",
    "    columna_01 = line[0]\n",
    "    columna_04 = line[3].split(',')\n",
    "    columna_05 = line[4].split(',')\n",
    "#Contar los datos de las columnas 4 y 5\n",
    "    contar_col04 = len(columna_04)\n",
    "    contar_col05 = len(columna_05)\n",
    "#pegar los datos según la orden, letra de la col 1, cuenta de la col 4 y 5\n",
    "    list_code_counter.append((columna_01, contar_col04, contar_col05))\n",
    "\n",
    "list_code_counter   \n",
    "\n"
   ]
  },
  {
   "cell_type": "code",
   "execution_count": 35,
   "metadata": {},
   "outputs": [
    {
     "data": {
      "text/plain": [
       "{'a': 122, 'b': 49, 'c': 91, 'd': 73, 'e': 86, 'f': 134, 'g': 35}"
      ]
     },
     "execution_count": 35,
     "metadata": {},
     "output_type": "execute_result"
    }
   ],
   "source": [
    "#Leer y limpiar la data\n",
    "open_data=open('../files/input/data.csv','r').readlines()\n",
    "open_data=[z.replace('\\n','')for z in open_data]\n",
    "clean_list= [z.split('\\t')for z in open_data]\n",
    "#Crear una lista vacía para ir pegando los datos\n",
    "dict_letter_sum={}\n",
    "#Recorrer la data para traer los datos y su formato\n",
    "for line in clean_list:\n",
    "        columna_04 = line[3].split(',')\n",
    "        columna_02 = int(line[1])\n",
    "#Armar el diccionario con cada letra de la col4 e ir sumando la col2\n",
    "        for letter in columna_04:\n",
    "                if letter not in dict_letter_sum:\n",
    "                    dict_letter_sum[letter] = columna_02\n",
    "                else:\n",
    "                    dict_letter_sum[letter] += columna_02\n",
    "\n",
    "#traer el diccionario ordenado\n",
    "dict_letter_sum = dict(sorted(dict_letter_sum.items()))\n",
    "\n",
    "dict_letter_sum "
   ]
  },
  {
   "cell_type": "code",
   "execution_count": 36,
   "metadata": {},
   "outputs": [
    {
     "data": {
      "text/plain": [
       "{'A': 177, 'B': 187, 'C': 114, 'D': 136, 'E': 324}"
      ]
     },
     "execution_count": 36,
     "metadata": {},
     "output_type": "execute_result"
    }
   ],
   "source": [
    "#Leer y limpiar la data\n",
    "open_data=open('../files/input/data.csv','r').readlines()\n",
    "open_data=[z.replace('\\n','')for z in open_data]\n",
    "clean_list= [z.split('\\t')for z in open_data]\n",
    "#Crear una lista vacía para ir pegando los datos\n",
    "dict_key_value_sum={}\n",
    "#Recorrer la data para traer los datos y su formato\n",
    "for line in clean_list:\n",
    "        position_01 = line[0]\n",
    "        position_05 = line[4]\n",
    "#Partir los datos y realizar la suma de los valores en int al final del string\n",
    "        values = position_05.split(',')\n",
    "        sum_values = sum(int(z.split(':')[1])for z in values)\n",
    "#Armar el diccionario con cada letra de la col4 e ir sumando la col2\n",
    "        if position_01 not in dict_key_value_sum:\n",
    "            dict_key_value_sum[position_01] = sum_values\n",
    "        else:\n",
    "            dict_key_value_sum[position_01] += sum_values\n",
    "\n",
    "#traer el diccionario ordenado\n",
    "dict_key_value_sum = dict(sorted(dict_key_value_sum.items()))\n",
    "\n",
    "dict_key_value_sum"
   ]
  },
  {
   "cell_type": "code",
   "execution_count": 46,
   "metadata": {},
   "outputs": [
    {
     "data": {
      "text/plain": [
       "[(0, ['C']),\n",
       " (1, ['E', 'B', 'E']),\n",
       " (2, ['A', 'E']),\n",
       " (3, ['A', 'B', 'D', 'E', 'E', 'D']),\n",
       " (4, ['E', 'B']),\n",
       " (5, ['B', 'C', 'D', 'D', 'E', 'E', 'E']),\n",
       " (6, ['C', 'E', 'A', 'B']),\n",
       " (7, ['A', 'C', 'E', 'D']),\n",
       " (8, ['E', 'D', 'E', 'A', 'B']),\n",
       " (9, ['A', 'B', 'E', 'A', 'A', 'C'])]"
      ]
     },
     "execution_count": 46,
     "metadata": {},
     "output_type": "execute_result"
    }
   ],
   "source": [
    "from itertools import groupby\n",
    "#Leer y limpiar la data\n",
    "open_data = open('../files/input/data.csv','r').readlines()\n",
    "open_data = [z.replace('\\n','')for z in open_data]\n",
    "clean_list = [z.split('\\t')for z in open_data]\n",
    "#Separar la data para operar\n",
    "data_list = [(line[0],line[1]) for line in clean_list]\n",
    "#Organizar las tuplas por la columna 1\n",
    "data_sorted = sorted(data_list, key=lambda x: x[1])\n",
    "#Agrupar, crear la lista y retornar la pregunta 07\n",
    "grouped = groupby(data_sorted, key=lambda x: x[1])\n",
    "list_number_key = []\n",
    "for key, group in grouped:\n",
    "    letras = [letra for letra, value in group]\n",
    "    list_number_key.append((int(key), letras))\n",
    "\n",
    "list_number_key"
   ]
  },
  {
   "cell_type": "code",
   "execution_count": null,
   "metadata": {},
   "outputs": [
    {
     "data": {
      "text/plain": [
       "[(0, ['C']),\n",
       " (1, ['B', 'E']),\n",
       " (2, ['A', 'E']),\n",
       " (3, ['A', 'B', 'D', 'E']),\n",
       " (4, ['B', 'E']),\n",
       " (5, ['B', 'C', 'D', 'E']),\n",
       " (6, ['A', 'B', 'C', 'E']),\n",
       " (7, ['A', 'C', 'D', 'E']),\n",
       " (8, ['A', 'B', 'D', 'E']),\n",
       " (9, ['A', 'B', 'C', 'E'])]"
      ]
     },
     "execution_count": 58,
     "metadata": {},
     "output_type": "execute_result"
    }
   ],
   "source": [
    "from itertools import groupby\n",
    "\n",
    "#Leer y limpiar la data\n",
    "open_data = open('../files/input/data.csv','r').readlines()\n",
    "open_data = [z.replace('\\n','')for z in open_data]\n",
    "clean_list = [z.split('\\t')for z in open_data]\n",
    "#Separar la data para operar\n",
    "data_list = [(line[0],line[1]) for line in clean_list]\n",
    "#Organizar las tuplas por la columna 1\n",
    "data_sorted = sorted(data_list, key=lambda x: x[1])\n",
    "#Agrupar, crear la lista y retornar la pregunta 07\n",
    "grouped = groupby(data_sorted, key=lambda x: x[1])\n",
    "list_independent = []\n",
    "for key, group in grouped:\n",
    "# Usamos un set para evitar duplicados\n",
    "    letras = set(letra for letra, value in group)\n",
    "#Conversiones, a entero, a lista ordenada\n",
    "    list_independent.append((int(key), sorted(list(letras))))\n",
    "\n",
    "list_independent"
   ]
  }
 ],
 "metadata": {
  "kernelspec": {
   "display_name": ".venv",
   "language": "python",
   "name": "python3"
  },
  "language_info": {
   "codemirror_mode": {
    "name": "ipython",
    "version": 3
   },
   "file_extension": ".py",
   "mimetype": "text/x-python",
   "name": "python",
   "nbconvert_exporter": "python",
   "pygments_lexer": "ipython3",
   "version": "3.10.9"
  }
 },
 "nbformat": 4,
 "nbformat_minor": 2
}
